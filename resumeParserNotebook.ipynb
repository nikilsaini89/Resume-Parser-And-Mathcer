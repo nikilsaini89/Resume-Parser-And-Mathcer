{
 "cells": [
  {
   "cell_type": "code",
   "execution_count": null,
   "id": "4edb5a35",
   "metadata": {},
   "outputs": [],
   "source": [
    "# pip install spacy\n",
    "# pip install spacy_transformers"
   ]
  },
  {
   "cell_type": "markdown",
   "id": "7c9688a6",
   "metadata": {},
   "source": [
    "# Create a spacy object\n"
   ]
  },
  {
   "cell_type": "code",
   "execution_count": null,
   "id": "5a25e214",
   "metadata": {},
   "outputs": [],
   "source": [
    "import spacy\n",
    "from spacy.tokens import DocBin\n",
    "from tqdm import tqdm\n",
    "import json\n",
    "import sys, fitz"
   ]
  },
  {
   "cell_type": "code",
   "execution_count": null,
   "id": "9715c47a",
   "metadata": {},
   "outputs": [],
   "source": [
    "pip list"
   ]
  },
  {
   "cell_type": "code",
   "execution_count": null,
   "id": "02c81faf",
   "metadata": {},
   "outputs": [],
   "source": [
    "import warnings\n",
    "warnings.filterwarnings(\"ignore\", category = UserWarning)"
   ]
  },
  {
   "cell_type": "code",
   "execution_count": null,
   "id": "5812e6cb",
   "metadata": {},
   "outputs": [],
   "source": []
  },
  {
   "cell_type": "code",
   "execution_count": null,
   "id": "5100d528",
   "metadata": {},
   "outputs": [],
   "source": [
    "cv_data = json.load(open('E:/PROJECTS/Resume-Parser-And-Mathcer/train_data.json','r'))"
   ]
  },
  {
   "cell_type": "code",
   "execution_count": null,
   "id": "7bb61a38",
   "metadata": {},
   "outputs": [],
   "source": [
    "cv_data"
   ]
  },
  {
   "cell_type": "code",
   "execution_count": null,
   "id": "d8da8512",
   "metadata": {},
   "outputs": [],
   "source": [
    "\n",
    "len(cv_data)"
   ]
  },
  {
   "cell_type": "code",
   "execution_count": null,
   "id": "d78f1951",
   "metadata": {},
   "outputs": [],
   "source": [
    "!python -m spacy init fill-config E:/PROJECTS/Resume-Parser-And-Mathcer/base_config.cfg config.cfg"
   ]
  },
  {
   "cell_type": "code",
   "execution_count": null,
   "id": "b4cc2ab8",
   "metadata": {},
   "outputs": [],
   "source": [
    "def get_spacy_doc(file, data):\n",
    "    nlp = spacy.blank('en') #  load a new spacy model\n",
    "    db = DocBin() # create a DocBin object\n",
    "\n",
    "    for text, annot in tqdm(data): # data in previous format\n",
    "        doc = nlp.make_doc(text) # create doc object from text\n",
    "        annot = annot['entities']\n",
    "        ents=[]\n",
    "        entity_indices=[]\n",
    "        for start, end, label in annot:\n",
    "            # add character indexes\n",
    "            skip_entity=False\n",
    "            for idx in range(start,end):\n",
    "                if idx in entity_indices:\n",
    "                    skip_entity=True\n",
    "                    break\n",
    "            if skip_entity==True:\n",
    "                continue\n",
    "                \n",
    "            entity_indices=entity_indices+list(range(start,end))\n",
    "            \n",
    "            try:\n",
    "                span = doc.char_span(start, end, label=label, alignment_mode = 'strict')\n",
    "            except:\n",
    "                continue\n",
    "            if span is None:\n",
    "                err_data = str([start, end]) + \"  \" + str(text) + \"\\n\"\n",
    "                file.write(err_data)\n",
    "            else:\n",
    "                ents.append(span)\n",
    "            \n",
    "        try:\n",
    "            doc.ents=ents\n",
    "            db.add(doc)\n",
    "        except:\n",
    "            pass\n",
    "    return db\n",
    "\n",
    "# db=get_spacy_doc(data)\n",
    "# db.to_disk(\"./train.spacy\")\n",
    "    "
   ]
  },
  {
   "cell_type": "code",
   "execution_count": null,
   "id": "6e1f1964",
   "metadata": {},
   "outputs": [],
   "source": [
    "from sklearn.model_selection import train_test_split\n",
    "train , test = train_test_split(cv_data, test_size = 0.3)"
   ]
  },
  {
   "cell_type": "code",
   "execution_count": null,
   "id": "8c588e10",
   "metadata": {},
   "outputs": [],
   "source": [
    "len(train), len(test)"
   ]
  },
  {
   "cell_type": "code",
   "execution_count": null,
   "id": "51b9e4da",
   "metadata": {
    "scrolled": true
   },
   "outputs": [],
   "source": [
    "file = open('error.txt', 'w', encoding='utf-8')\n",
    "# with open('filename', 'w', encoding='utf-8') as f:\n",
    "\n",
    "db = get_spacy_doc(file, train)\n",
    "db.to_disk('train_data.spacy')\n",
    "\n",
    "db = get_spacy_doc(file, test)\n",
    "db.to_disk('test_data.spacy')\n",
    "\n",
    "file.close()"
   ]
  },
  {
   "cell_type": "code",
   "execution_count": null,
   "id": "bcc32bf0",
   "metadata": {},
   "outputs": [],
   "source": [
    "len(db.tokens)"
   ]
  },
  {
   "cell_type": "markdown",
   "id": "9c140dd3",
   "metadata": {},
   "source": [
    "# TRAINING AND LOADING THE MODEL"
   ]
  },
  {
   "cell_type": "code",
   "execution_count": null,
   "id": "bfd66d3f",
   "metadata": {},
   "outputs": [],
   "source": [
    "# !python -m spacy train E:/PROJECTS/Resume-Parser-And-Mathcer/config.cfg --output ./output --paths.train ./train_data.spacy --paths.dev ./test_data.spacy"
   ]
  },
  {
   "cell_type": "markdown",
   "id": "f67a71e3",
   "metadata": {},
   "source": [
    "# Model Test"
   ]
  },
  {
   "cell_type": "code",
   "execution_count": null,
   "id": "c2598427",
   "metadata": {},
   "outputs": [],
   "source": [
    "nlp = spacy.load('E:/PROJECTS/selfTry/output/model-best')"
   ]
  },
  {
   "cell_type": "code",
   "execution_count": null,
   "id": "951f1231",
   "metadata": {
    "scrolled": true
   },
   "outputs": [],
   "source": [
    "doc = nlp('My name is Nikil Saini, I am an Intern at Amazon, I have 3 months of experience')"
   ]
  },
  {
   "cell_type": "code",
   "execution_count": null,
   "id": "a0d0298b-da2a-4b28-9bc1-f4c4753d1ed8",
   "metadata": {},
   "outputs": [],
   "source": [
    "doc"
   ]
  },
  {
   "cell_type": "code",
   "execution_count": null,
   "id": "650bdca0-8c80-4b5f-b5f7-a39b3dbaf7be",
   "metadata": {
    "scrolled": true
   },
   "outputs": [],
   "source": [
    "for ent in doc.ents:\n",
    "    \n",
    "    print(ent.text, \"  --->>>>\", ent.label_)"
   ]
  },
  {
   "cell_type": "code",
   "execution_count": null,
   "id": "7b411ef9-f0de-47d6-9005-73bd20bb66c2",
   "metadata": {},
   "outputs": [],
   "source": [
    "# !pip install PyMuPDF"
   ]
  },
  {
   "cell_type": "code",
   "execution_count": null,
   "id": "a0e568ac",
   "metadata": {},
   "outputs": [],
   "source": [
    "import sys, fitz"
   ]
  },
  {
   "cell_type": "code",
   "execution_count": null,
   "id": "01802d6a",
   "metadata": {},
   "outputs": [],
   "source": [
    "fname = 'E:/PROJECTS/selfTry/CV-Parsing-using-Spacy-3/data/test/Alice Clark CV.pdf'\n",
    "doc = fitz.open(fname)"
   ]
  },
  {
   "cell_type": "code",
   "execution_count": null,
   "id": "4f12d9ee",
   "metadata": {},
   "outputs": [],
   "source": [
    "doc"
   ]
  },
  {
   "cell_type": "code",
   "execution_count": null,
   "id": "0595c4e2",
   "metadata": {},
   "outputs": [],
   "source": [
    "text = \" \"\n",
    "for page in doc:\n",
    "    text = text + str(page.get_text())\n",
    "text"
   ]
  },
  {
   "cell_type": "code",
   "execution_count": null,
   "id": "9e2f4737",
   "metadata": {},
   "outputs": [],
   "source": [
    "text = text.strip()\n",
    "text"
   ]
  },
  {
   "cell_type": "code",
   "execution_count": null,
   "id": "691ad8dd",
   "metadata": {},
   "outputs": [],
   "source": [
    "text = ' '.join(text.split())"
   ]
  },
  {
   "cell_type": "code",
   "execution_count": null,
   "id": "688e7acd",
   "metadata": {},
   "outputs": [],
   "source": [
    "# for i,_ in text:\n",
    "#     doc = nlp(i)\n",
    "#     print([(ent.text, ent.label_) for ent in doc.ents])"
   ]
  },
  {
   "cell_type": "code",
   "execution_count": null,
   "id": "6d60b333",
   "metadata": {},
   "outputs": [],
   "source": [
    "from pdfminer.high_level import extract_text\n",
    "def text_from_pdf(pdf):\n",
    "    return extract_text(pdf)\n",
    "\n",
    "# Taking resume as input\n",
    "resume = text_from_pdf(\"Pulkit_Saxena_resume.pdf\")\n",
    "\n",
    "\n",
    "# Removing the punctuations\n",
    "punctuations = '''!()-[]{};:'\"\\,<>./?@#$%^&*_~•'''\n",
    "for i in resume:\n",
    "    if i in punctuations:\n",
    "        resume = resume.replace(i, \"\")\n",
    "        \n",
    "# Obtaing cleaned text from pdf\n",
    "final_text = str.join(\" \", resume.splitlines())\n",
    "\n",
    "from spacy import displacy\n",
    "doc = nlp(final_text)\n",
    "ans = [(ent.text, ent.label_) for ent in doc.ents]\n",
    "displacy.render(doc,style='ent')"
   ]
  },
  {
   "cell_type": "code",
   "execution_count": null,
   "id": "663548fb",
   "metadata": {},
   "outputs": [],
   "source": [
    "doc = nlp(text)\n",
    "for ent in doc.ents:\n",
    "    print(ent.text, \"  --->>>>\", ent.label_)"
   ]
  },
  {
   "cell_type": "markdown",
   "id": "1d88e436",
   "metadata": {},
   "source": [
    "# Similarity Match"
   ]
  },
  {
   "cell_type": "code",
   "execution_count": null,
   "id": "b13e5306",
   "metadata": {},
   "outputs": [],
   "source": [
    "pref_skillS = 30\n",
    "pref_degreeS = 10\n",
    "pref_companiesS = 20\n",
    "\n",
    "matched_skill=0\n",
    "matched_degree=0\n",
    "matched_companies=0\n",
    "for i in ans:\n",
    "    if i[1]=='Companies worked at':\n",
    "        if i[0] in company_string:\n",
    "            matched_companies+=1\n",
    "    if i[1]=='Degree':\n",
    "        if i[0] in degree_string:\n",
    "            matched_degree+=1\n",
    "    if i[1]=='Skills':\n",
    "        if i[0].lower() in skill_string:\n",
    "            matched_skill+=1"
   ]
  },
  {
   "cell_type": "code",
   "execution_count": null,
   "id": "2b9398c3",
   "metadata": {},
   "outputs": [],
   "source": [
    "from sklearn.metrics.pairwise import cosine_similarity\n",
    "similarity=cosine_similarity([[matched_skill,matched_degree,matched_companies]],[[pref_skillS,pref_degreeS,pref_companiesS]])\n",
    "print(f\"The input resume matches {similarity[0][0]*100:.2f} percent with the required job position.\")"
   ]
  },
  {
   "cell_type": "code",
   "execution_count": null,
   "id": "8b210192",
   "metadata": {},
   "outputs": [],
   "source": []
  }
 ],
 "metadata": {
  "kernelspec": {
   "display_name": "myenv",
   "language": "python",
   "name": "myenv"
  },
  "language_info": {
   "codemirror_mode": {
    "name": "ipython",
    "version": 3
   },
   "file_extension": ".py",
   "mimetype": "text/x-python",
   "name": "python",
   "nbconvert_exporter": "python",
   "pygments_lexer": "ipython3",
   "version": "3.10.4"
  }
 },
 "nbformat": 4,
 "nbformat_minor": 5
}
